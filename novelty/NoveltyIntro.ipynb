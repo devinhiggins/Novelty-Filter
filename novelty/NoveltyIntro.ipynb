{
 "cells": [
  {
   "cell_type": "markdown",
   "metadata": {},
   "source": [
    "## Novelty Filter\n",
    "\n",
    "I created a file called **input.txt** that contains the KJ Bible. Compile the code and use the following as command line parameters:\n",
    "```\n",
    "2000000001 5 12 charToKMap.txt input.txt output.txt filter.txt 10000\n",
    "```\n",
    "Details:\n",
    "\n",
    "- **2000000001**: the code creates a novelty filter with 2000000001 entries (this number is a fairly large prime number reserving about 250MB of memory); the first commandline parameter must always be a prime number!\n",
    "- **5**: This the number of bits reserved for each character in the text. Normal Ascii characters use 8 bits; here we map them to 5, the `charToKMap.txt` file encodes how. This table should be optimized, I just haven't had time to do it.\n",
    "- **12** is the number of letters in each `k-mer`. We can at best use 60 bits, so `5*12` is the upper limit. You can use `4*15` as well, or `6*10`, if you change `charToMap.txt` accordingly.\n",
    "- **input.txt** is the file to load\n",
    "- **output.txt** is the result file that logs novelty over entries, according to an interval (see below.)\n",
    "- **filter.txt** is a file that once the filtering is done, the filter is saved to. However, if the `filter.txt` file exists at program start it will load the content of the filter before loading `input.txt` into the filter (explained below).\n",
    "- **10000** is the interval size. 10000 `k-mers` are added to the filter and then the function calculates how many of these 10000 are new, old, new/(new+old)."
   ]
  },
  {
   "cell_type": "markdown",
   "metadata": {},
   "source": [
    "We assume that the `input.txt` file and the `charToKMap.txt` file exist and are in the same folder as the compiled c++ code. Name the final program NoveltyFilter. The next code block is a wrapper for the code, so you can use it from within this notebook.\n",
    "\n",
    "*The function assumes that NoveltyFilter and all .txt files are in the same folder!*"
   ]
  },
  {
   "cell_type": "code",
   "execution_count": null,
   "metadata": {
    "collapsed": false
   },
   "outputs": [],
   "source": [
    "!rm output.txt filter.txt"
   ]
  },
  {
   "cell_type": "code",
   "execution_count": null,
   "metadata": {
    "collapsed": false
   },
   "outputs": [],
   "source": [
    "%pylab inline"
   ]
  },
  {
   "cell_type": "code",
   "execution_count": 6,
   "metadata": {
    "collapsed": false
   },
   "outputs": [
    {
     "name": "stdout",
     "output_type": "stream",
     "text": [
      ".//NoveltyFilter 2000000001 5 12 charToKMap.txt ../texts/victorian/Eliot_Middlemarch.txt output.txt filter.txt 10000\n",
      "0 2000000001\n",
      "1 5\n",
      "2 12\n",
      "3 .//charToKMap.txt\n",
      "4 .//../texts/victorian/Eliot_Middlemarch.txt\n",
      "5 .//output.txt\n",
      "6 .//filter.txt\n",
      "7 10000\n",
      "\n"
     ]
    }
   ],
   "source": [
    "import subprocess\n",
    "\n",
    "def NoveltyFilter(path,prime,K,N,mapName,inputName,outputName,filterName,intervall):\n",
    "    print \"{0}/NoveltyFilter\".format(path) +\" \"+str(prime)+\" \"+str(K)+\" \"+str(N)+\" \"+mapName+\" \"+inputName+\" \"+outputName+\" \"+filterName+\" \"+str(intervall)\n",
    "    res=subprocess.check_output([\"./a.out\",str(prime),str(K),str(N),path+\"/\"+mapName,path+\"/\"+inputName,path+\"/\"+outputName,path+\"/\"+filterName,str(intervall)])\n",
    "    return res\n",
    "\n",
    "path=\"./\"\n",
    "prime=2000000001 \n",
    "K=5\n",
    "N=12 \n",
    "mapName=\"charToKMap.txt\"\n",
    "inputName=\"../texts/victorian/Eliot_Middlemarch.txt\"\n",
    "#inputName=\"../texts/modernism/Joyce_Ulysses.txt\"\n",
    "outputName=\"output.txt\"\n",
    "filterName=\"filter.txt\"\n",
    "intervall=10000\n",
    "print NoveltyFilter(path,prime,K,N,mapName,inputName,outputName,filterName,intervall)"
   ]
  },
  {
   "cell_type": "markdown",
   "metadata": {},
   "source": [
    "The output from above should look something like this:\n",
    "```    \n",
    "//Volumes/work/iPhone/Science/NoveltyFilter/build/Release/NoveltyFilter 2000000001 5 12 charToKMap.txt input.txt output.txt filter.txt 10000\n",
    "\n",
    "0 2000000001\n",
    "1 5\n",
    "2 12\n",
    "3 //Volumes/work/iPhone/Science/NoveltyFilter/build/Release/charToKMap.txt\n",
    "4 //Volumes/work/iPhone/Science/NoveltyFilter/build/Release/input.txt\n",
    "5 //Volumes/work/iPhone/Science/NoveltyFilter/build/Release/output.txt\n",
    "6 //Volumes/work/iPhone/Science/NoveltyFilter/build/Release/filter.txt\n",
    "7 10000\n",
    "No file to load from!\n",
    "```\n",
    "If the code reports \"No file to load from!\", then the filter has been initialized as entirely empty; Otherwise data is loaded into the filter. This is important for other comparisons, where we want to see novelty from one item over the other."
   ]
  },
  {
   "cell_type": "markdown",
   "metadata": {},
   "source": [
    "The next piece of code just loads the data file output and prints the fraction of novelty:"
   ]
  },
  {
   "cell_type": "code",
   "execution_count": 8,
   "metadata": {
    "collapsed": false
   },
   "outputs": [
    {
     "data": {
      "text/plain": [
       "[<matplotlib.lines.Line2D at 0x106621690>]"
      ]
     },
     "execution_count": 8,
     "metadata": {},
     "output_type": "execute_result"
    },
    {
     "data": {
      "image/png": "[encoded data removed]",
      "text/plain": [
       "<matplotlib.figure.Figure at 0x10652fc10>"
      ]
     },
     "metadata": {},
     "output_type": "display_data"
    }
   ],
   "source": [
    "from pandas import *\n",
    "path = \"./\"\n",
    "filename=\"output.txt\"\n",
    "data=read_csv(\"{0}/{1}\".format(path,filename), sep=\",\",na_values=[\"\",\" \"],header=None,prefix=\"X\")\n",
    "plot(data[\"X2\"])"
   ]
  },
  {
   "cell_type": "markdown",
   "metadata": {
    "collapsed": false
   },
   "source": [
    "As a sanity check: If we just loaded the entire KJ Bible into the filter, and we do that again (this time with the filter already containing the data from the first run) we should not expect any novelty!\n",
    "                                                                                                "
   ]
  },
  {
   "cell_type": "code",
   "execution_count": 11,
   "metadata": {
    "collapsed": false,
    "scrolled": true
   },
   "outputs": [
    {
     "name": "stdout",
     "output_type": "stream",
     "text": [
      ".//NoveltyFilter 2000000001 5 12 charToKMap.txt input.txt outputSecondRound.txt filter.txt 10000\n",
      "0 2000000001\n",
      "1 5\n",
      "2 12\n",
      "3 .//charToKMap.txt\n",
      "4 .//input.txt\n",
      "5 .//outputSecondRound.txt\n",
      "6 .//filter.txt\n",
      "7 10000\n",
      "\n"
     ]
    },
    {
     "data": {
      "text/plain": [
       "[<matplotlib.lines.Line2D at 0x106a90790>]"
      ]
     },
     "execution_count": 11,
     "metadata": {},
     "output_type": "execute_result"
    },
    {
     "data": {
      "image/png": "[encoded data removed]",
      "text/plain": [
       "<matplotlib.figure.Figure at 0x106524510>"
      ]
     },
     "metadata": {},
     "output_type": "display_data"
    }
   ],
   "source": [
    "path=\"./\"\n",
    "prime=2000000001 \n",
    "K=5\n",
    "N=12 \n",
    "mapName=\"charToKMap.txt\"\n",
    "inputName=\"input.txt\"\n",
    "outputName=\"outputSecondRound.txt\"\n",
    "filterName=\"filter.txt\"\n",
    "intervall=10000\n",
    "print NoveltyFilter(path,prime,K,N,mapName,inputName,outputName,filterName,intervall)\n",
    "\n",
    "filename=\"outputSecondRound.txt\"\n",
    "data=read_csv(\"{0}/{1}\".format(path,filename), sep=\",\",na_values=[\"\",\" \"],header=None,prefix=\"X\")\n",
    "plot(data[\"X2\"])"
   ]
  },
  {
   "cell_type": "markdown",
   "metadata": {},
   "source": [
    "You don't get the \"no file to load from!\" warning (check the directory, you should have a `filter.txt` file of ~250MB)\n",
    "and the new `outputSecond.txt` file contains no novelty, because the filter is alread prefilled, having been loaded from the previous filter."
   ]
  }
 ],
 "metadata": {
  "kernelspec": {
   "display_name": "Python 2",
   "language": "python",
   "name": "python2"
  },
  "language_info": {
   "codemirror_mode": {
    "name": "ipython",
    "version": 2
   },
   "file_extension": ".py",
   "mimetype": "text/x-python",
   "name": "python",
   "nbconvert_exporter": "python",
   "pygments_lexer": "ipython2",
   "version": "2.7.12"
  }
 },
 "nbformat": 4,
 "nbformat_minor": 0
}
