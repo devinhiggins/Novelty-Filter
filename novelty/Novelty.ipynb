{
 "cells": [
  {
   "cell_type": "markdown",
   "metadata": {},
   "source": [
    "# Novelty Filter\n",
    "\n",
    "\n",
    "Compile code with (e.g.):\n",
    "\n",
    "\tg++ main.cpp singleBloomFilter.cpp\n",
    "\n",
    "## Information Novelty\n",
    "\n",
    "To compute novelty of k-length segments over a given chunk of text, change to the novelty filter directory and open a Python shell. By default k is 5 and the interval over which novelty is computer is 10,000, but other inputs may be supplied."
   ]
  },
  {
   "cell_type": "markdown",
   "metadata": {},
   "source": [
    "Run basic novelty analysis, to return 4 values: \n",
    "- **Slope**: The slope of the line that was fit to the novelty data (slope will always be negative).\n",
    "- **r^2**: A measure of how well the best-fit line explains the data (ranges from 0 to 1).\n",
    "- **# Intervals**: The number of intervals in which the percent of novel strings was calculated; value is determined by the interval variable, which can be assigned when running the novelty calculation.\n",
    "- **Lexical Diversity**: A standard measure computed by dividing the number of unique tokens by the number of total tokens\n",
    "\n",
    "The code below will produce a filter file (\"./filter.txt\") and a csv file containing output values for the supplied text (\"./output.txt\")."
   ]
  },
  {
   "cell_type": "code",
   "execution_count": 2,
   "metadata": {
    "collapsed": false
   },
   "outputs": [
    {
     "name": "stdout",
     "output_type": "stream",
     "text": [
      "Text                                               Slope      r^2        # Intervals Lexical Diversity\n",
      "Joyce_Ulysses.txt                                  -0.0008    0.5941     151        0.115     \n"
     ]
    }
   ],
   "source": [
    "from run_novelty import Novelty\n",
    "n = Novelty()\n",
    "n.get_novelty(\"/path/to/text\")"
   ]
  },
  {
   "cell_type": "markdown",
   "metadata": {},
   "source": [
    "Running the `mark_up_text` function will additionally create an annotated text file for a given book; including mark-up novelty data about each interval."
   ]
  },
  {
   "cell_type": "code",
   "execution_count": null,
   "metadata": {
    "collapsed": false,
    "scrolled": true
   },
   "outputs": [],
   "source": [
    "from run_novelty import Novelty\n",
    "n = Novelty()\n",
    "n.get_novelty(\"/path/to/text\")\n",
    "n.mark_up_text()"
   ]
  },
  {
   "cell_type": "markdown",
   "metadata": {},
   "source": [
    "Code to create filter 'pool' with contents of given directory poured one at a time over the same filter."
   ]
  },
  {
   "cell_type": "markdown",
   "metadata": {},
   "source": [
    "## By Corpus\n",
    "\n",
    "Store filter and results for a corpus."
   ]
  },
  {
   "cell_type": "code",
   "execution_count": null,
   "metadata": {
    "collapsed": false
   },
   "outputs": [],
   "source": [
    "import os\n",
    "from novelty_filter import NoveltyFilter\n",
    "directory = \"/path/\"\n",
    "\n",
    "for f in os.listdir(directory):\n",
    "\n",
    "    # Select all .txt files in a given directory, excluding the marked-up files\n",
    "    # created e.g. in the previous cell.\n",
    "    if f.endswith(\".txt\") and \"_intervals\" not in f:\n",
    "\n",
    "        full_path = os.path.join(directory, f)\n",
    "        print(full_path)\n",
    "        \n",
    "        # Use delete keyword \"False\" so that the filter won't be reinitialized for each text.\n",
    "        n = NoveltyFilter(delete=False)\n",
    "        \n",
    "        # The paths to store outputs *must* exist prior to running this code.\n",
    "        n.save_outputs(full_path, filter_output=\"outputs/filters/texts/\", graph_output=\"outputs/results/texts/\")"
   ]
  }
 ],
 "metadata": {
  "kernelspec": {
   "display_name": "Python 2",
   "language": "python",
   "name": "python2"
  },
  "language_info": {
   "codemirror_mode": {
    "name": "ipython",
    "version": 2
   },
   "file_extension": ".py",
   "mimetype": "text/x-python",
   "name": "python",
   "nbconvert_exporter": "python",
   "pygments_lexer": "ipython2",
   "version": "2.7.12"
  }
 },
 "nbformat": 4,
 "nbformat_minor": 0
}
